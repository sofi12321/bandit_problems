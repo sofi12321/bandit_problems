{
 "cells": [
  {
   "cell_type": "markdown",
   "metadata": {
    "id": "vMyXflpMoq-W"
   },
   "source": [
    "# Bandit problem solutions\n",
    "\n",
    "This code contains epsilon-Greedy and Thompson Sampling algorithms for Bernoulli bandit problem.\n",
    "Also, it solves Gaussian Bandit problem by Upper-Confidence Bound and Thompson Sampling algorithms.\n",
    "\n",
    "As a simulation, a task for Correlated Travel Times was solved using Thomson Sampling algorithm. \n",
    "\n"
   ]
  },
  {
   "cell_type": "markdown",
   "metadata": {
    "id": "oCM6-niipl0D"
   },
   "source": [
    "### Prepare te environment"
   ]
  },
  {
   "cell_type": "code",
   "execution_count": 1,
   "metadata": {
    "colab": {
     "base_uri": "https://localhost:8080/"
    },
    "id": "jQeCaPJopPGS",
    "outputId": "128e656c-892e-41bc-cad7-03b4ab0537ec"
   },
   "outputs": [
    {
     "name": "stdout",
     "output_type": "stream",
     "text": [
      "Looking in indexes: https://pypi.org/simple, https://us-python.pkg.dev/colab-wheels/public/simple/\n",
      "Collecting Dijkstar\n",
      "  Downloading Dijkstar-2.6.0-py3-none-any.whl (12 kB)\n",
      "Requirement already satisfied: six in /usr/local/lib/python3.10/dist-packages (from Dijkstar) (1.16.0)\n",
      "Installing collected packages: Dijkstar\n",
      "Successfully installed Dijkstar-2.6.0\n"
     ]
    }
   ],
   "source": [
    "!pip install Dijkstar"
   ]
  },
  {
   "cell_type": "code",
   "execution_count": 2,
   "metadata": {
    "id": "Xq3AigLFW8DA"
   },
   "outputs": [],
   "source": [
    "import numpy as np\n",
    "from dijkstar import Graph, find_path\n",
    "from copy import deepcopy\n",
    "import matplotlib.pyplot as plt"
   ]
  },
  {
   "cell_type": "markdown",
   "metadata": {
    "id": "zji2Y-hEpnkf"
   },
   "source": [
    "### Base class\n",
    "While writing solutions to these problems, I noticed that all the algorithms have the same structure. Before the game starts, the parameters of prior distribution are set. Then, at each time period, the attractiveness of each action is evaluated and one of them is chosen based on this. After that, the action is performed and some reward is awarded for it. The posterior distribution is calculated based on this and the prior is updated for the next time period. Additionally, the regret can be counted as the received reward minus the best one that could be obtained at that moment.\n",
    "\n",
    "So, I decided to use OOP to solve the problem elegantly.\n",
    "\n",
    "GeneralBanditAlgorithm is a class that implements the main function - the solution as a sequence of steps discussed earlier. Each step is a function call that can be rewritten by child classes. The function that displays the information is also realized here. Note that all other algorithms are its childs, and them all has original\\_param1 and original\\_param2 as data from the real world, estimated\\_param1 and estimated\\_param2 as parameters for prior distribution. "
   ]
  },
  {
   "cell_type": "code",
   "execution_count": 3,
   "metadata": {
    "id": "D4DDD7mLsj8z"
   },
   "outputs": [],
   "source": [
    "class GeneralBanditAlgorithm:\n",
    "    \"\"\"\n",
    "    A class describing a general algorithm. It could not work itself - only inherited classes can run.\n",
    "    Describes the general for all bandit problems solution flow.\n",
    "    Also implements general for realized solutions methods. Note that they can be overwritten by inherited classes.\n",
    "    Action is an index from 0 to len(original parameter 1).\n",
    "    Each action has its corresponding original and estimated parameters 1 and 2.\n",
    "    In all implemented algorithms, except simulation, only one action is chosen at each time period.\n",
    "    \"\"\"\n",
    "\n",
    "    def __init__(self, p1, p2, init_p1, init_p2):\n",
    "        \"\"\"\n",
    "        Initializes 2 parameters for both estimation and original (from real world).\n",
    "        The parameters are given by inherited classes.\n",
    "\n",
    "        :param p1: first parameter that represents data from real world (likelihood).\n",
    "                    For Bernoulli problem - theta, for Gaussian - mu.\n",
    "        :param p2: second parameter that represents data from real world (likelihood) !!!\n",
    "                    For Bernoulli problem - 1- theta, for Gaussian - sigma.\n",
    "        :param init_p1: prior about first parameter.\n",
    "        :param init_p2: prior about second parameter.\n",
    "        \"\"\"\n",
    "        self.original_param1 = p1\n",
    "        self.original_param2 = p2\n",
    "        self.estimated_param1 = init_p1\n",
    "        self.estimated_param2 = init_p2\n",
    "        # Counts how many times each action is performed\n",
    "        self.steps_done = np.zeros(len(self.original_param1))\n",
    "        # Calculate overall reward\n",
    "        self.reward = 0\n",
    "        # Saves regrets during for each time period\n",
    "        self.regrets = np.array([])\n",
    "\n",
    "    def find_solution(self, number_trials=100):\n",
    "        \"\"\"\n",
    "        The general for all bandit problems solution flow. Calling methods may be overwritten.\n",
    "        :param number_trials: number of time periods\n",
    "        \"\"\"\n",
    "        for t in range(number_trials):\n",
    "            # Estimate the reward for all possible actions based on prior distribution\n",
    "            theta_est = self.estimate_reward()\n",
    "            # Choose the most beneficial decision based on current knowledge\n",
    "            actions = self.get_action(theta_est)\n",
    "            # Obtain the real reward for all possible steps\n",
    "            rewards = self.get_reward()\n",
    "            # Update reward\n",
    "            self.reward += sum([rewards[action] for action in actions])\n",
    "            # Calculate regret for current time period\n",
    "            self.calculate_regret(rewards, actions)\n",
    "            # Get posterior distribution and update prior for the next time period based on it\n",
    "            self.update_params(actions, rewards)\n",
    "\n",
    "    def estimate_reward(self) -> list:\n",
    "        \"\"\"\n",
    "        Estimate reward based on prior distribution. Must be overwritten by the inherited classes.\n",
    "        :return: list of estimated reward for each action\n",
    "        \"\"\"\n",
    "        pass\n",
    "\n",
    "    def get_action(self, theta_est):\n",
    "        \"\"\"\n",
    "        Find the best action to perform.\n",
    "        The basic approach is implemented - chooses the one with the maximal value\n",
    "        :param theta_est: assumed parameters\n",
    "        :return: index of the maximal value\n",
    "        \"\"\"\n",
    "        return [np.argmax(theta_est)]\n",
    "\n",
    "    def get_reward(self) -> list:\n",
    "        \"\"\"\n",
    "        Obtain reward from the real world. Must be overwritten by the inherited classes.\n",
    "        :return: list of real reward for each action.\n",
    "        \"\"\"\n",
    "        pass\n",
    "\n",
    "    def update_params(self, actions, ys):\n",
    "        \"\"\"\n",
    "        Get posterior distribution. Recalculate prior for the next time period based on the posterior of current.\n",
    "        :param actions: list of the performed actions.\n",
    "        :param ys: list of rewards obtained while making a step on the action.\n",
    "        \"\"\"\n",
    "        pass\n",
    "\n",
    "    def calculate_regret(self, rewards, actions):\n",
    "        \"\"\"\n",
    "        Calculate regret for given time period\n",
    "        :param rewards: rewards from real world\n",
    "        :param actions: performed actions\n",
    "        \"\"\"\n",
    "        self.regrets = np.append(self.regrets, [max(self.original_param1) - self.original_param1[actions[0]]])\n",
    "\n",
    "    def plot_regret(self):\n",
    "        \"\"\"\n",
    "        Plot regrets\n",
    "        \"\"\"\n",
    "        plt.plot(*range(0, len(self.regrets)), self.regrets, scaley=True)\n",
    "        plt.ylim(top=max(self.regrets))\n",
    "        plt.ylim(bottom=min(0, min(self.regrets)))\n",
    "        plt.ylabel('Regrets')\n",
    "        plt.xlabel('Time period')\n",
    "        plt.show()\n",
    "\n",
    "    def print_result(self):\n",
    "        \"\"\"\n",
    "        Print general information\n",
    "        \"\"\"\n",
    "        best_action = self.get_action(self.original_param1)\n",
    "        est_action = self.get_action(self.get_estimated_parameter())\n",
    "        count = 0\n",
    "        for i in range(len(best_action)):\n",
    "            if best_action[i] == est_action[i]:\n",
    "                count += 1\n",
    "        if count == len(best_action):\n",
    "            print(\"The best solution was found correctly: \", *best_action)\n",
    "        else:\n",
    "            print(\"Obtained solution is not the same as the real\")\n",
    "            print(\"The best solution: \", *best_action)\n",
    "            print(\"The obtained solution: \", *est_action)\n",
    "            best_score = sum([self.original_param1[a] for a in best_action])\n",
    "            est_score = sum([self.original_param1[a] for a in est_action])\n",
    "            if best_score >= est_score:\n",
    "                print(f\"The score of the best solution is {best_score - est_score} units bigger than of the estimated.\")\n",
    "            else:\n",
    "                print(f\"The score of the estimated solution is {est_score - best_score} units bigger than of the best.\")\n",
    "\n",
    "        print(\"Steps done for each action: \", self.steps_done)\n",
    "        print(\"With reward score %.2f through all time periods\" % self.reward)\n",
    "        print()\n",
    "        print(\"Result of estimation is \", self.get_estimated_parameter())\n",
    "        print(\"While the real is \", self.original_param1)\n",
    "        print(\"With Mean Absolute Error: %.3f\" % (\n",
    "                sum(np.abs(self.original_param1 - self.get_estimated_parameter())) / len(self.original_param1)))\n",
    "        print()\n",
    "\n",
    "    def get_estimated_parameter(self):\n",
    "        \"\"\"\n",
    "        :return: estimated parameter\n",
    "        \"\"\"\n",
    "        return self.estimated_param1\n"
   ]
  },
  {
   "cell_type": "markdown",
   "metadata": {
    "id": "5XJCoxz59Suw"
   },
   "source": [
    "The following function runs the algorithms many times and plot per-period regret"
   ]
  },
  {
   "cell_type": "code",
   "execution_count": 32,
   "metadata": {
    "id": "9lL5zNGmuD1Y"
   },
   "outputs": [],
   "source": [
    "def plot_regret(n_trials, time, algorithm, params, min_before, max_before):\n",
    "    \"\"\"\n",
    "    Plot the average over n_trials regret for the algorithm.\n",
    "    :param n_trials: number of algorithm runs\n",
    "    :param time: number of time periods on which run the algorithm\n",
    "    :param algorithm: algorithm to be used\n",
    "    :param params: algorithm parameters, such as epsilon or confidence\n",
    "    :param min_before: lower bound along the y-axis of the plot\n",
    "    :param max_before: upper bound along the y-axis of the plot\n",
    "    :return: lower and upper bounds along the y-axis of the plot\n",
    "    \"\"\"\n",
    "    regrets = np.zeros(time)\n",
    "    for i in range(n_trials):\n",
    "        # Run algorithm for time periods\n",
    "        alg = algorithm(*params)\n",
    "        alg.find_solution(time)\n",
    "        # Update regrets\n",
    "        regrets = regrets + alg.regrets\n",
    "    # Take average over all regrets\n",
    "    regrets = regrets / n_trials\n",
    "    plt.plot(*range(0, len(regrets)), regrets)\n",
    "    return min(min_before, min(regrets)), max(max_before, max(regrets))\n"
   ]
  },
  {
   "cell_type": "markdown",
   "metadata": {
    "id": "cPmetduEssfI"
   },
   "source": [
    "### Bernoulli bandit problem\n",
    "\n",
    "Imagine that there is a machine with many arms, each of them has a probability of winning. A player comes in. He wants to get as many wins as possible. The intuitive solution is to hold the hand with the highest success probability. However, the player does not know these probabilities. In this case, he can follow different strategies, some of which are implemented in this solution (epsilon-Greedy, Thompson Sampling). Note that this is a bandit problem with Bernoulli's reward: the player pulls a bandit's arm and with some probability wins (receives +1 reward) or loses (receives +0 reward). "
   ]
  },
  {
   "cell_type": "code",
   "execution_count": 5,
   "metadata": {
    "id": "zP7G1L16szdw"
   },
   "outputs": [],
   "source": [
    "class BernoulliBandit(GeneralBanditAlgorithm):\n",
    "    \"\"\"\n",
    "    Implements Bernoulli Bandit problem. It could not work itself - only inherited classes can run.\n",
    "    An action is pulling the arm. It is an index of the corresponding parameters.\n",
    "    The reward of the action is 1 in case of success or 0 otherwise.\n",
    "    The player does not know the real success probabilities of the arms, so tries to estimate it by making actions.\n",
    "    \"\"\"\n",
    "\n",
    "    def __init__(self, arms_num=3, probabilities=None):\n",
    "        \"\"\"\n",
    "        Set initial parameters.\n",
    "        Likelihood (data from the real world): parameter 1 is probabilities, parameter 2 is 1-probabilities.\n",
    "                    So it is a Beta distribution with alpha=probabilities, beta=(1-probabilities).\n",
    "        Prior distribution: beta-distribution parameter 1 is alpha (number of positive outcomes),\n",
    "                                              parameter 2 is beta (number of negative outcomes).\n",
    "        :param arms_num: number of bandit's arms\n",
    "        :param probabilities: list of success probability for each arm\n",
    "        \"\"\"\n",
    "        if probabilities is None:\n",
    "            # Set random probabilities\n",
    "            probabilities = np.random.rand(arms_num)\n",
    "        probabilities = np.array(probabilities)\n",
    "        super().__init__(probabilities, 1 - probabilities, np.ones(len(probabilities)), np.ones(len(probabilities)))\n",
    "\n",
    "    def get_reward(self):\n",
    "        \"\"\"\n",
    "        Obtain reward from the bandit: 1 in case of success and 0 otherwise.\n",
    "        Random number from 0 to 1 is compared with the success probability of arm.\n",
    "        The greater the probability, the greater the chance to win (when the random number is in range [0, probability])\n",
    "        :return: list of the real reward for each arm.\n",
    "        \"\"\"\n",
    "        theta = self.original_param1 / (self.original_param1 + self.original_param2)\n",
    "        get_result = np.vectorize(lambda x: [1 if np.random.rand(1)[0] <= x else 0][0])\n",
    "        return get_result(theta)\n",
    "\n",
    "    def update_params(self, actions, ys):\n",
    "        \"\"\"\n",
    "        Update alpha, beta and amount of steps based on the performed actions\n",
    "        :param actions: list of indices of performed actions\n",
    "        :param ys: list of observed values\n",
    "        \"\"\"\n",
    "        for action in actions:\n",
    "            self.estimated_param1[action] += ys[action]\n",
    "            self.estimated_param2[action] += 1 - ys[action]\n",
    "            self.steps_done[action] += 1\n",
    "\n",
    "    def get_estimated_parameter(self):\n",
    "        \"\"\"\n",
    "        Calculate probability of win as expected value of the estimated distribution\n",
    "        :return: probability estimated so far\n",
    "        \"\"\"\n",
    "        return self.estimated_param1 / (self.estimated_param1 + self.estimated_param2)\n"
   ]
  },
  {
   "cell_type": "markdown",
   "metadata": {
    "id": "C2n4-vYds51v"
   },
   "source": [
    "#### Solution 1. Epsilon-Greedy algorithm\n",
    "In this algorithm the prior distribution is set as beta distribution with parameters $estimated\\_param1=alpha=1$, $estimated\\_param2=beta=1$ for each hand. The real probabilities of each arm are stored in original\\_param1 and set as a random number from 0 to 1. \n",
    "\n",
    "The estimated success probability (theta) of each arm is the expectation of the prior distribution: $alpha/(alpha+beta)$.  Every time-period with probability epsilon the player polls a random arm with probability proportional to the expected reward, otherwise he takes the action with the highest theta.\n",
    "\n",
    "Regret counts as the difference between the real winning probability of the chosen arm and the highest possible success probability.\n",
    "\n",
    "Note that the real reward is 1 if the chosen arm wins, or 0 otherwise. Victory is determined whether the random number is less than the real arm's success probability.\n",
    "At each time period,  only the selected arm's posterior is calculated and its prior for the next step is updated: $alpha=alpha+reward$, $beta=beta+1-reward$. \n"
   ]
  },
  {
   "cell_type": "code",
   "execution_count": 21,
   "metadata": {
    "id": "rVGulgV0s2H8"
   },
   "outputs": [],
   "source": [
    "class BernoulliEGreedy(BernoulliBandit):\n",
    "    \"\"\"\n",
    "    Implements Epsilon-Greedy Solution for Bernoulli Bandit problem.\n",
    "    Chooses a random arm with probability epsilon, or take the action with the best expectation.\n",
    "    \"\"\"\n",
    "\n",
    "    def __init__(self, epsilon=0.05, arms_num=3, probabilities=None):\n",
    "        \"\"\"\n",
    "        Initialize parameters\n",
    "        :param epsilon: probability of pulling a random arm\n",
    "        :param arms_num: number of bandit's arms\n",
    "        :param probabilities: list of success probability for each arm\n",
    "        \"\"\"\n",
    "        super().__init__(arms_num, probabilities)\n",
    "        self.epsilon = epsilon\n",
    "\n",
    "    def estimate_reward(self):\n",
    "        \"\"\"\n",
    "        Calculate reward based on prior distribution. Reward is the expected value of beta distribution\n",
    "        with the observed so far alpha and beta (parameters 1 and 2, respectively).\n",
    "        :return: list of expectations for each action\n",
    "        \"\"\"\n",
    "        theta_est = np.ones(len(self.estimated_param1))\n",
    "        for k in range(len(self.estimated_param1)):\n",
    "            theta_est[k] = self.estimated_param1[k] / (self.estimated_param1[k] + self.estimated_param2[k])\n",
    "        return theta_est\n",
    "\n",
    "    def get_action(self, theta_est):\n",
    "        \"\"\"\n",
    "        Find the action to perform. \n",
    "        With probability epsilon takes a random arm with probability proportional to the expected reward,\n",
    "        otherwise takes the action with the best expectation.\n",
    "        :param theta_est: list of expected reward for each action\n",
    "        :return: index of the action\n",
    "        \"\"\"\n",
    "        if np.random.rand() < self.epsilon:\n",
    "            # Explore the random arm\n",
    "            probabilities = theta_est/sum(theta_est)\n",
    "            p = np.random.rand()\n",
    "            cummulative_prob = 0\n",
    "            for i in range(len(probabilities)):\n",
    "                cummulative_prob += probabilities[i]\n",
    "                if p <= cummulative_prob:\n",
    "                    return [i]\n",
    "            return [len(theta_est)-1]\n",
    "        else:\n",
    "            # Exploit the best arm\n",
    "            ind = np.argmax(theta_est)\n",
    "        return [ind]\n"
   ]
  },
  {
   "cell_type": "code",
   "execution_count": 24,
   "metadata": {
    "colab": {
     "base_uri": "https://localhost:8080/"
    },
    "id": "N6nnrz8w0Qw4",
    "outputId": "4ef2623a-b2e1-43d2-9f42-947af52c8ee6"
   },
   "outputs": [
    {
     "name": "stdout",
     "output_type": "stream",
     "text": [
      "The best solution was found correctly:  1\n",
      "Steps done for each action:  [ 18. 952.  30.]\n",
      "With reward score 958.00 through all time periods\n",
      "\n",
      "Result of estimation is  [0.35       0.97589099 0.71875   ]\n",
      "While the real is  [0.25299063 0.97812402 0.66689025]\n",
      "With Mean Absolute Error: 0.050\n",
      "\n"
     ]
    }
   ],
   "source": [
    "solution = BernoulliEGreedy(0.1)\n",
    "solution.find_solution(1000)\n",
    "solution.print_result()"
   ]
  },
  {
   "cell_type": "markdown",
   "metadata": {
    "id": "xb-v8BkatGQ4"
   },
   "source": [
    "#### Solution 2. Thompson Sampling algorithm\n",
    "This algorithm differs from the epsilon greedy algorithm in not using epsilon. Theta (estimated success probability) is taken as a sample from the prior distribution (with parameters estimated\\_param1 as alpha & estimated\\_param2 as beta), and the action is chosen as the arm with the highest theta."
   ]
  },
  {
   "cell_type": "code",
   "execution_count": 26,
   "metadata": {
    "id": "kBH7_CDttKZ3"
   },
   "outputs": [],
   "source": [
    "class BernoulliTS(BernoulliBandit):\n",
    "    \"\"\"\n",
    "    Implements Thompson Sampling Solution for Bernoulli Bandit problem.\n",
    "    \"\"\"\n",
    "\n",
    "    def __init__(self, arms_num=3, probabilities=None):\n",
    "        \"\"\"\n",
    "        Initialize parameters\n",
    "        :param arms_num: number of bandit's arms\n",
    "        :param probabilities: list of success probability for each arm\n",
    "        \"\"\"\n",
    "        super().__init__(arms_num, probabilities)\n",
    "\n",
    "    def estimate_reward(self):\n",
    "        \"\"\"\n",
    "        Estimate reward as a sample from normal distribution with parameters mu and sigma\n",
    "        :return: lost of samples from the distributions\n",
    "        \"\"\"\n",
    "        theta_est = np.ones(len(self.estimated_param1))\n",
    "        for k in range(len(self.estimated_param1)):\n",
    "            theta_est[k] = np.random.beta(self.estimated_param1[k], self.estimated_param2[k])\n",
    "        return theta_est\n"
   ]
  },
  {
   "cell_type": "code",
   "execution_count": null,
   "metadata": {
    "colab": {
     "base_uri": "https://localhost:8080/"
    },
    "id": "d1cJg8CzvfL8",
    "outputId": "415e16e5-5c70-43ae-cfb7-c5cf6ae500a8"
   },
   "outputs": [
    {
     "name": "stdout",
     "output_type": "stream",
     "text": [
      "The best solution was found correctly:  0\n",
      "Steps done for each action:  [918.  72.  10.]\n",
      "With reward score 871.00 through all time periods\n",
      "\n",
      "Result of estimation is  [0.87717391 0.82432432 0.5       ]\n",
      "While the real is  [0.87354905 0.81792862 0.40618663]\n",
      "With Mean Absolute Error: 0.035\n",
      "\n"
     ]
    }
   ],
   "source": [
    "solution = BernoulliTS()\n",
    "solution.find_solution(1000)\n",
    "solution.print_result()"
   ]
  },
  {
   "cell_type": "markdown",
   "metadata": {
    "id": "rXfKiDQcto3S"
   },
   "source": [
    "#### Graph of regrets per period for both solutions\n",
    "I ran the algorithms for the Bernoulli reward for 1000 time periods 10000 times and got the following graph. From it one can notice that Thompson's algorithm converges better than the epsilon-greedy algorithm.\n"
   ]
  },
  {
   "cell_type": "code",
   "execution_count": 36,
   "metadata": {
    "colab": {
     "base_uri": "https://localhost:8080/",
     "height": 472
    },
    "id": "n2Bb24MB3N_o",
    "outputId": "6edc80ff-dcf3-4a95-de89-a97498b370b2"
   },
   "outputs": [
    {
     "data": {
      "image/png": "[encoded data removed]",
      "text/plain": [
       "<Figure size 640x480 with 1 Axes>"
      ]
     },
     "metadata": {},
     "output_type": "display_data"
    }
   ],
   "source": [
    "n_trials = 10000\n",
    "periods = 1000\n",
    "lower_bound, upper_bound = 0, 0\n",
    "lower_bound, upper_bound = plot_regret(n_trials, periods, BernoulliEGreedy, [0.3], lower_bound, upper_bound)\n",
    "lower_bound, upper_bound = plot_regret(n_trials, periods, BernoulliEGreedy, [0.05], lower_bound, upper_bound)\n",
    "lower_bound, upper_bound = plot_regret(n_trials, periods, BernoulliTS, [], lower_bound, upper_bound)\n",
    "\n",
    "lower_bound -= (upper_bound-lower_bound)/50\n",
    "upper_bound += (upper_bound-lower_bound)/50\n",
    "plt.ylim(top=upper_bound)\n",
    "plt.ylim(bottom=lower_bound)\n",
    "\n",
    "plt.ylabel('Regret')\n",
    "plt.xlabel('Time period')\n",
    "plt.legend([\"0.3-Greedy\", \"0.05-Greedy\",  \"Thompson Sampling\"])\n",
    "plt.title(\"Regret after applying algorithms for Bernoulli reward\")\n",
    "plt.show()"
   ]
  },
  {
   "cell_type": "markdown",
   "metadata": {
    "id": "RcEvuI8VtNXV"
   },
   "source": [
    "### Gaussian Bandit problem\n",
    "Now suppose that each hand produces a reward as a real value from a normal distribution. My solution assumes that the hands have different mean values, but the same variance equal to 1. The player knows variance, but does not know means and wants to maximize his reward. This is the Bandit problem with Gaussian rewards, for which I implemented UCB and Thompson Sampling algorithms. "
   ]
  },
  {
   "cell_type": "code",
   "execution_count": null,
   "metadata": {
    "id": "9xG4Uuxxv0bC"
   },
   "outputs": [],
   "source": [
    "class GaussianBandit(GeneralBanditAlgorithm):\n",
    "    \"\"\"\n",
    "    Implements Gaussian Bandit problem. It could not run itself - only inherited classes can be used.\n",
    "    An action is pulling the arm. It is an index of the corresponding parameters.\n",
    "    The reward is the real number - sample from the normal distribution.\n",
    "    The player does not know the real mean of the arms, so tries to estimate it by making actions.\n",
    "    Parameter 1 is a mean of the distribution, what we will estimate, parameter 2 is a variance, known for the player.\n",
    "    \"\"\"\n",
    "\n",
    "    def __init__(self, mus=None, sigmas=None, elements_num=3):\n",
    "        \"\"\"\n",
    "        Set initial parameters\n",
    "        :param mus: predefined means\n",
    "        :param sigmas: predefined variances\n",
    "        :param elements_num: number of bandit's arms\n",
    "        \"\"\"\n",
    "        if mus is None:\n",
    "            # random initialization of real means\n",
    "            mus = np.random.uniform(1, 10, elements_num)\n",
    "        if sigmas is None or len(mus) != len(sigmas):\n",
    "            # set all real variances as 0\n",
    "            sigmas = np.ones(len(mus))\n",
    "        # Prior is mean=0, sigma=100\n",
    "        super().__init__(mus, sigmas, np.zeros(len(mus)), np.ones(len(mus)) * 100)\n",
    "\n",
    "    def get_reward(self):\n",
    "        \"\"\"\n",
    "        Obtain real reward as a sample from normal distribution with original (from the real world) parameters\n",
    "        :return: list of each arm's sample from the distribution\n",
    "        \"\"\"\n",
    "        return np.random.normal(self.original_param1, self.original_param2 ** 0.5, size=len(self.original_param1))\n",
    "\n",
    "    def update_params(self, actions, ys):\n",
    "        \"\"\"\n",
    "        Update mean and variance based on the performed actions.\n",
    "        Next prior is the current posterior.\n",
    "        :param actions: list of indices of performed actions\n",
    "        :param ys: list of observed values\n",
    "        \"\"\"\n",
    "        for action in actions:\n",
    "            mu_est, sigma_est, n_trial, y, original_sigma = self.estimated_param1[action], \\\n",
    "                                                            self.estimated_param2[action], \\\n",
    "                                                            self.steps_done[action], ys[action], \\\n",
    "                                                            self.original_param2[action]\n",
    "            # Calculate posterior\n",
    "            mu_est = mu_est / sigma_est + y / original_sigma\n",
    "            sigma_est = 1 / (1 / sigma_est + 1 / original_sigma)\n",
    "            mu_est = mu_est * sigma_est\n",
    "            n_trial += 1\n",
    "            # Update prior\n",
    "            self.estimated_param1[action], self.estimated_param2[action], self.steps_done[\n",
    "                action] = mu_est, sigma_est, n_trial\n"
   ]
  },
  {
   "cell_type": "markdown",
   "metadata": {
    "id": "hPj-Ql2_v8Bl"
   },
   "source": [
    "#### Solution 1. Upper-Confidence Bound algorithm\n",
    "In this algorithm the real reward (likelihood) for each arm is taken from normal distribution with $mean=original\\_param1$ and $variance=original\\_param2=1$. Note that mean is taken as random number from 1 to 10, the player does not know it. However, he knows that real variance are all equal to 1. \n",
    "Before the start the player set the prior distribution as normal with parameters $estimated\\_param1=mu=0$, $estimated\\_param2=sigma^2=1$ for each arm. \\\\\n",
    "The expected reward (theta) of each arm is equal to the $exploitation\\_part + confidence\\_factor*exploration\\_part$, where exploitation\\_part is the expectation of the prior distribution; confidence\\_factor is a constant during algorithm initialization, which represents how interested we are in exploring arms; $exploration\\_part = \\sqrt{\\frac{\\ln{N+1}}{n+1}}$, n is a number of pulling the arm, N is the overall number of performed trials. Every time-period the arm with the highest theta is taken. \n",
    "\n",
    "The real reward is a sample from likelihood. Regret counts as the difference between the obtained reward and the maximal possible. \n",
    "The posterior is calculated and prior is updated as conjugate distributions:\n",
    "\n",
    "$\n",
    "\\mu_{posterior} = \\frac{1}{\\frac{1}{\\sigma^2_{prior}} + \\frac{1}{\\sigma^2_{likelihood}}}(\\frac{\\mu_{prior}}{\\sigma^2_{prior}} + \\frac{reward}{\\sigma^2_{likelihood}})\n",
    "$\n",
    "\n",
    "$\\sigma_{posterior} = \\frac{1}{\\frac{1}{\\sigma^2_{prior}} + \\frac{1}{\\sigma^2_{likelihood}}}$\n"
   ]
  },
  {
   "cell_type": "code",
   "execution_count": null,
   "metadata": {
    "id": "bfNpMvcpxeyl"
   },
   "outputs": [],
   "source": [
    "class GaussianUCB(GaussianBandit):\n",
    "    def __init__(self, confidence=1, mus=None, sigmas=None, elements_num=3):\n",
    "        \"\"\"\n",
    "        Set initial parameters.\n",
    "        :param confidence: constant that manages the level of exploration\n",
    "        :param mus: predefined means\n",
    "        :param sigmas: predefined variances\n",
    "        :param elements_num: number of bandit's arms\n",
    "        \"\"\"\n",
    "        self.confidence = confidence\n",
    "        super().__init__(mus=mus, sigmas=sigmas, elements_num=elements_num)\n",
    "\n",
    "    def estimate_reward(self):\n",
    "        \"\"\"\n",
    "        Estimate reward as an upper confidence bound: E + confidence * sqrt(ln(N+1)/(n+1)),\n",
    "        where E is the expected value of the distribution, n - number of actions performed by the arm,\n",
    "        N - total number of performed actions.\n",
    "        :return: UCB for each arm\n",
    "        \"\"\"\n",
    "        theta_est = np.ones(len(self.estimated_param1))\n",
    "        for k in range(len(self.estimated_param1)):\n",
    "            theta_est[k] = self.estimated_param1[k] + \\\n",
    "                           self.confidence * np.sqrt(np.log(sum(self.steps_done) + 1) / (self.steps_done[k] + 1))\n",
    "        return theta_est\n"
   ]
  },
  {
   "cell_type": "code",
   "execution_count": null,
   "metadata": {
    "colab": {
     "base_uri": "https://localhost:8080/"
    },
    "id": "z4gs6DLwxiNO",
    "outputId": "77c625b4-11f9-40a9-b7ea-fb62be94fe47"
   },
   "outputs": [
    {
     "name": "stdout",
     "output_type": "stream",
     "text": [
      "The best solution was found correctly:  0\n",
      "Steps done for each action:  [569.   2. 429.]\n",
      "With reward score 8126.57 through all time periods\n",
      "\n",
      "Result of estimation is  [8.17902695 0.49621223 8.09216642]\n",
      "While the real is  [8.2901162  1.03808562 8.07671122]\n",
      "With Mean Absolute Error: 0.223\n",
      "\n"
     ]
    }
   ],
   "source": [
    "solution = GaussianUCB(5)\n",
    "solution.find_solution(1000)\n",
    "solution.print_result()"
   ]
  },
  {
   "cell_type": "markdown",
   "metadata": {
    "id": "srp5uerewDBN"
   },
   "source": [
    "#### Solution 2. Thompson Sampling algorithm\n",
    "This algorithm differs from the UCB algorithm in not using confidence factor, theta estimation and arm choosing. \n",
    "Theta (estimated success probability) is taken as a sample from the prior distribution (with parameters estimated\\_param1 as mean & estimated\\_param2 as variance), and the action is chosen as the arm with the highest theta.\n"
   ]
  },
  {
   "cell_type": "code",
   "execution_count": null,
   "metadata": {
    "id": "rraI1IWqv5A5"
   },
   "outputs": [],
   "source": [
    "class GaussianTS(GaussianBandit):\n",
    "    \"\"\"\n",
    "    Implements Thompson Sampling Solution for Gaussian Bandit problem.\n",
    "    Means are unknown, variances are known.\n",
    "    \"\"\"\n",
    "\n",
    "    def __init__(self, mus=None, sigmas=None, elements_num=3):\n",
    "        \"\"\"\n",
    "        Set initial parameters.\n",
    "        :param mus: predefined means\n",
    "        :param sigmas: predefined variances\n",
    "        :param elements_num: number of bandit's arms\n",
    "        \"\"\"\n",
    "        super().__init__(mus=mus, sigmas=sigmas, elements_num=elements_num)\n",
    "\n",
    "    def estimate_reward(self):\n",
    "        \"\"\"\n",
    "        Estimate reward as a sample from normal distribution\n",
    "        :return: samples from the distributions\n",
    "        \"\"\"\n",
    "        return np.random.normal(self.estimated_param1, self.estimated_param2 ** 0.5)\n"
   ]
  },
  {
   "cell_type": "code",
   "execution_count": null,
   "metadata": {
    "colab": {
     "base_uri": "https://localhost:8080/"
    },
    "id": "7bEbXKtdxoaX",
    "outputId": "0b667c73-dce6-43f5-eca1-b5aac7a3c271"
   },
   "outputs": [
    {
     "name": "stdout",
     "output_type": "stream",
     "text": [
      "The best solution was found correctly:  1\n",
      "Steps done for each action:  [  4. 995.   1.]\n",
      "With reward score 7820.73 through all time periods\n",
      "\n",
      "Result of estimation is  [6.27426802 7.83216124 2.46344812]\n",
      "While the real is  [6.71623131 7.83484855 1.57013856]\n",
      "With Mean Absolute Error: 0.446\n",
      "\n"
     ]
    }
   ],
   "source": [
    "solution = GaussianTS()\n",
    "solution.find_solution(1000)\n",
    "solution.print_result()"
   ]
  },
  {
   "cell_type": "markdown",
   "metadata": {
    "id": "aa-zQ4efyJWh"
   },
   "source": [
    "#### Graph of regrets per period for both solutions\n",
    "I ran the algorithms for the Gaussian reward for 500 time periods 10000 times and got the following graph. From it one can notice that Thompson's algorithm converges the best.\n"
   ]
  },
  {
   "cell_type": "code",
   "execution_count": null,
   "metadata": {
    "colab": {
     "base_uri": "https://localhost:8080/",
     "height": 472
    },
    "id": "5HlOCT6J0LBz",
    "outputId": "37e69953-2bda-4427-aaec-4ab5b18775c2"
   },
   "outputs": [
    {
     "data": {
      "image/png": "[encoded data removed]",
      "text/plain": [
       "<Figure size 640x480 with 1 Axes>"
      ]
     },
     "metadata": {},
     "output_type": "display_data"
    }
   ],
   "source": [
    "n_trials = 10000\n",
    "lower_bound, upper_bound = 0, 0\n",
    "lower_bound, upper_bound = plot_regret(n_trials, 500, GaussianUCB, [1], lower_bound, upper_bound)\n",
    "lower_bound, upper_bound = plot_regret(n_trials, 500, GaussianUCB, [5], lower_bound, upper_bound)\n",
    "lower_bound, upper_bound = plot_regret(n_trials, 500, GaussianTS, [], lower_bound, upper_bound)\n",
    "\n",
    "lower_bound -= (upper_bound-lower_bound)/50\n",
    "upper_bound += (upper_bound-lower_bound)/50\n",
    "plt.ylim(top=upper_bound)\n",
    "plt.ylim(bottom=lower_bound)\n",
    "\n",
    "plt.ylabel('Regret')\n",
    "plt.xlabel('Time period')\n",
    "plt.legend([\"UCB-1\", \"UCB-5\", \"Thompson Sampling\"])\n",
    "plt.title(\"Regret after applying algorithms for Gaussian reward\")\n",
    "plt.show()\n"
   ]
  },
  {
   "cell_type": "markdown",
   "metadata": {
    "id": "MiPO4QAhzG7G"
   },
   "source": [
    "### Simulation\n",
    "The Correlated Travel Time problem is the problem of finding the optimal path in the context of unknown travel time on each road. Imagine that a person travels from home (source) to work (destination) every day. The roads between them create a binomial bridge. Note that all edges between the origin and the middle are in the upper half, the rest are in the lower half.\n",
    "\n",
    "\n",
    "The person wants to spend as less time on the road as possible, but does not know which route is faster. In reality, the travel time on each road at each day (time period) is a sample from lognormal distribution with parameters mu and sigma. Suppose in this problem the person does not know only the average travel time along each edge, and the sigma for all is 1.  The problem is complicated by the fact that the choice of one road affects the travel time on the other road, which is expressed in the covariance matrix, which the person also knows. \n",
    "$\n",
    "\\Sigma_{e_1, e_2} = \\begin{cases}\n",
    "\\sigma^2 & e_1 = e_2 \\\\\n",
    "\\frac{2 \\sigma^2}{3} & e_1 \\neq e_2, \\text{both in one half of bridge} \\\\\n",
    "\\frac{\\sigma^2}{3} & \\text{otherwise}\n",
    "\\end{cases}\n",
    "$\n",
    "\n",
    "Since I will be working mostly with edges, I represented one action as the choice of a road, and in one period of time the person chooses several edges. Therefore, the dimension of means is $E\\times 1$, and for the covariance matrix it is $E\\times E$, where E is the number of edges. Also, now the sample from the prior and likelihood distributions are taken as exponent in the power of sample from multivariate normal distribution of means and covariance matrix.\n",
    "\n",
    "Moreover, the reward is multiplied by idiosyncratic\\_factor, time\\_factor and halves\\_factor taken from the lognormal distribution with parameters $(-1/6 \\sigma^2, 1/3 \\sigma^2)$. Idiosyncratic\\_factor represent some obstacles on each road, time\\_factor is common for all edges, for example, today's weather, halves\\_factor is the same for one half of the binomial bridge (one for upper half, another - for lower). \n",
    "\n",
    "Note that the task is to minimize the reward, or one can multiply reward by $-1$ and solve the maximization problem. When estimated rewards for each edge is calculated (using sample from prior distribution and parameters), the best path is chosen by Dijkstra's algorithm as one with the minimal path length. Then, the real rewards are obtained, and the reward for this time period is the sum of the edges rewards along the chosen path. The regret counts as the difference between the obtained reward and the minimal possible (calculated again with the Dijkstra's algorithm)."
   ]
  },
  {
   "cell_type": "code",
   "execution_count": 37,
   "metadata": {
    "id": "dXdBxRGrzkJA"
   },
   "outputs": [],
   "source": [
    "class CorrelatedTravelTimeSolution(GeneralBanditAlgorithm):\n",
    "    \"\"\"\n",
    "    Implements Simulation of Exercise 4.2 from Tutorial \"Correlated Travel Times\".\n",
    "    There is a binomial bridge from source to destination. A player wants to ride over the road (edge) with the minimal\n",
    "    travel time. However, he does not know the optimal one. So, the player rides over different edges and tries to find\n",
    "    the best one.\n",
    "    Each edge has its mean travel time and its variance. For this simulation let's consider that all edges has the same\n",
    "    variance, and the player knows it. Travel time on one edge may depend on the other, that is represented by the\n",
    "    covariance matrix. So, when the player drives a route, the travel time on each edge is a\n",
    "    sample from log-Gaussian multivariate distribution with vector of means and covariance matrix as its parameters.\n",
    "    Also, each day there are 3 coefficients: idiosyncratic_factor, time_factor and halves_factor,\n",
    "    that change the preferences of the road during each time period. More information about them see in\n",
    "    CorrelatedTravelTimeSolution.set_additional_parameters().\n",
    "    Indexing starts from 0. Action is the list of edges that creates a path from source to destination.\n",
    "    \"\"\"\n",
    "\n",
    "    def __init__(self, number_stages=6, original_means=None, original_sigma=1):\n",
    "        \"\"\"\n",
    "        Set initial estimations. Construct bridge and mappings to it.\n",
    "        The unknown parameter for the player is mean that is set as a random number from [0,5] - it is original_param2.\n",
    "        Sigma (original_param2) is a known parameter that is equal to 1. It may be a vector, but for this simulation\n",
    "        we considered a case of equal variance for all roads. Based on it the covariance matrix is calculated.\n",
    "\n",
    "        :param number_stages: length of the path in the binomial bridge\n",
    "        :param original_means: real means for each edge\n",
    "        :param original_sigma: variance of the travel time though the edges\n",
    "        \"\"\"\n",
    "        # Create graph and mapping to it\n",
    "        self.half_length = number_stages // 2 + 1\n",
    "        self.graph = self.create_binomial_graph()\n",
    "        self.edges_mapping = self.map_edge_vertices()\n",
    "\n",
    "        # Set initial parameters\n",
    "        if original_means is None or len(original_means) != len(self.edges_mapping):\n",
    "            original_means = np.random.rand(len(self.edges_mapping)) * 5\n",
    "        super().__init__(original_means, original_sigma, np.ones(len(self.edges_mapping)) * (-0.5),\n",
    "                         np.identity(len(original_means)))\n",
    "        self.original_covariance = self.calculate_variance_matrix()\n",
    "        self.concentrations = np.linalg.inv(self.original_covariance)\n",
    "\n",
    "        # Set initial factors. Will be overwritten at each time period.\n",
    "        self.idiosyncratic_factor = np.ones(len(self.original_param1))\n",
    "        self.time_factor = 1\n",
    "        self.halves_factor = np.ones(2)\n",
    "\n",
    "    def construct_half(self):\n",
    "        \"\"\"\n",
    "        Construct an upper half of the binomial bridge. This implementation assumes that the upper half of the bridge\n",
    "        is all edges between the source and vertices in the middle of the bridge. \n",
    "        Correspondingly, all other roads belong to the lower half.\n",
    "        :return: array of connections. The index is the index of vertex, and values is the list of vertices that are\n",
    "        directly connected to it.\n",
    "        \"\"\"\n",
    "        connections = []\n",
    "        vertex_counter = 0\n",
    "\n",
    "        for i in range(1, self.half_length):\n",
    "            for vert in range(vertex_counter, vertex_counter + i):\n",
    "                connections.append([vert + i, vert + i + 1])\n",
    "            vertex_counter += i\n",
    "        return connections\n",
    "\n",
    "    def create_binomial_graph(self):\n",
    "        \"\"\"\n",
    "        Construct binomial graph. Note that one vertex may have an edge to at most 2 other vertices (edges are directed)\n",
    "        :return: array of connections. The index is the index of vertex, and values is the list of vertices that are\n",
    "        directly connected to it.\n",
    "        \"\"\"\n",
    "        # Add upper half to the full list of connections\n",
    "        connections = self.construct_half()\n",
    "\n",
    "        # Extend list of connections to add the lower half of the bridge\n",
    "        for i in range(sum([*range(self.half_length, 0, -1)]) - 1):\n",
    "            connections.append([])\n",
    "\n",
    "        # Create lower half as upper and invert it\n",
    "        lower_half = self.construct_half()\n",
    "        mapping = [i + len(lower_half) - 1 for i in range(sum([*range(self.half_length, 0, -1)]), 0, -1)]\n",
    "\n",
    "        for i in range(len(lower_half)):\n",
    "            for vert in list(lower_half[i]):\n",
    "                # Add in a sorted way\n",
    "                if len(connections[mapping[vert]]) > 0 and mapping[i] < connections[mapping[vert]][0]:\n",
    "                    connections[mapping[vert]].insert(0, mapping[i])\n",
    "                else:\n",
    "                    connections[mapping[vert]].append(mapping[i])\n",
    "        return connections\n",
    "\n",
    "    def map_edge_vertices(self):\n",
    "        \"\"\"\n",
    "        Create mapping edge index -> [source_vertex, destination_vertex].\n",
    "        :return: array of mapping for each edge\n",
    "        \"\"\"\n",
    "        arr = []\n",
    "        for s in range(len(self.graph)):\n",
    "            for d in self.graph[s]:\n",
    "                arr.append([s, d])\n",
    "        return arr\n",
    "\n",
    "    def calculate_variance_matrix(self):\n",
    "        \"\"\"\n",
    "        Calculate concentration matrix for all edges.\n",
    "        Firstly calculate covariance matrix as given variance multiplied by covariance coefficient:\n",
    "        1 for the same edge, 2/3 for the edge in the same half of binomial graph, 1/3 otherwise.\n",
    "        Then calculate the inverse of the covariance matrix that is a concentration matrix.\n",
    "        Note that before using the concentration matrix edges that are not in the path must be marked as 0.\n",
    "        :return: inverse of covariance matrix\n",
    "        \"\"\"\n",
    "        covariance = []\n",
    "        half_ind = len(self.edges_mapping) // 2\n",
    "        for i in range(len(self.edges_mapping)):\n",
    "            # Calculate covariance matrix\n",
    "            covariance.append([])\n",
    "            for j in range(len(self.edges_mapping)):\n",
    "                if i == j:\n",
    "                    # Diagonal element - this edge itself.\n",
    "                    covariance[i].append(1 * self.original_param2)\n",
    "                elif (i < half_ind and j < half_ind) or (i >= half_ind and j >= half_ind):\n",
    "                    # They are in one half of binomial bridge\n",
    "                    covariance[i].append(self.original_param2 * 2 / 3)\n",
    "                else:\n",
    "                    # They are in different halves of binomial bridge\n",
    "                    covariance[i].append(self.original_param2 * 1 / 3)\n",
    "        return np.array(covariance)\n",
    "\n",
    "    def set_additional_parameters(self):\n",
    "        \"\"\"\n",
    "        There are 3 coefficients in each time period that affect road selection preferences.\n",
    "        idiosyncratic_factor represent some obstacles on each road,\n",
    "        time_factor is common for all edges, for example, today's weather,\n",
    "        halves_factor is the same for one half of the binomial bridge (one for upper half, another - for lower).\n",
    "        They all are calculated as samples from lognormal distribution with parameters (-1/6 sigma, 1/3 sigma).\n",
    "        \"\"\"\n",
    "        self.idiosyncratic_factor = np.random.lognormal(-1 * self.original_param2 / 6, self.original_param2 / 3,\n",
    "                                                        size=len(self.original_param1))\n",
    "        self.time_factor = np.random.lognormal(-1 * self.original_param2 / 6, self.original_param2 / 3)\n",
    "        self.halves_factor = np.random.lognormal(-1 * self.original_param2 / 6, self.original_param2 / 3, size=2)\n",
    "\n",
    "    def add_params(self, data):\n",
    "        \"\"\"\n",
    "        Multiply the edge time by the corresponding idiosyncratic_factor, time_factor and halves_factor.\n",
    "        :param data: array of values for the edges\n",
    "        :return: array, each value is multiplied by the factors of the corresponding edge\n",
    "        \"\"\"\n",
    "        data = data * self.time_factor\n",
    "        for i in range(len(data)):\n",
    "            data[i] *= self.idiosyncratic_factor[i]\n",
    "            if i < len(self.original_param1) / 2:\n",
    "                data[i] *= self.halves_factor[0]\n",
    "            else:\n",
    "                data[i] *= self.halves_factor[1]\n",
    "        return data\n",
    "\n",
    "    def estimate_reward(self):\n",
    "        \"\"\"\n",
    "        Obtain reward as an exponent in the power of a sample from multivariate normal distribution with estimated means\n",
    "        and covariances. Then multiply by parameters for this time period.\n",
    "        :return: array of expected reward for each edge\n",
    "        \"\"\"\n",
    "        self.set_additional_parameters()\n",
    "        return self.add_params(np.exp(np.random.multivariate_normal(self.estimated_param1, self.estimated_param2)))\n",
    "\n",
    "    def get_reward(self):\n",
    "        \"\"\"\n",
    "        Obtain reward as an exponent in the power of a sample from multivariate normal distribution with real means\n",
    "        and covariances. Then multiply by parameters for this time period.\n",
    "        :return: array of real reward for each edge\n",
    "        \"\"\"\n",
    "        return self.add_params(np.exp(np.random.multivariate_normal(self.original_param1, self.original_covariance)))\n",
    "\n",
    "    def update_params(self, actions, ys):\n",
    "        \"\"\"\n",
    "        Get posterior distribution. Calculate posterior and update prior for the next time period based on it.\n",
    "        :param actions: list of the performed actions.\n",
    "        :param ys: list of rewards obtained while making a step on the action.\n",
    "        \"\"\"\n",
    "        # Leave in the concentration matrix only the values for edges on the way\n",
    "        concentration = deepcopy(self.concentrations)\n",
    "        for e1 in range(len(concentration)):\n",
    "            for e2 in range(len(concentration)):\n",
    "                if e1 not in actions or e2 not in actions:\n",
    "                    concentration[e1][e2] = 0\n",
    "\n",
    "        inverse_variance = np.linalg.inv(self.estimated_param2)\n",
    "        zs = np.log(ys)\n",
    "        for i in range(len(ys)):\n",
    "            if i not in actions:\n",
    "                zs[i] = 0\n",
    "        # Update variance\n",
    "        self.estimated_param2 = np.linalg.inv(inverse_variance + concentration)\n",
    "        # Update means\n",
    "        self.estimated_param1 = self.estimated_param2.dot(\n",
    "            inverse_variance.dot(self.estimated_param1) + concentration.dot(zs))\n",
    "\n",
    "        for i in actions:\n",
    "            self.steps_done[i] += 1\n",
    "\n",
    "    def compute_best_path(self, path_values):\n",
    "        \"\"\"\n",
    "        Compute the best path using Dijkstra algorithm.\n",
    "        :param path_values: travel time on each edge\n",
    "        :return: list of vertex indices on the best path\n",
    "        \"\"\"\n",
    "        graph = Graph()\n",
    "\n",
    "        for i in range(len(self.edges_mapping)):\n",
    "            graph.add_edge(*self.edges_mapping[i], path_values[i])\n",
    "        nodes, _, _, cost = find_path(graph, self.edges_mapping[0][0], self.edges_mapping[-1][-1])\n",
    "        return nodes\n",
    "\n",
    "    def get_action(self, theta_est):\n",
    "        \"\"\"\n",
    "        Find roads that compose a path with minimal travel time\n",
    "        :param theta_est: assumed travel time for each edge\n",
    "        :return: list of edge indices that are on the optimal path\n",
    "        \"\"\"\n",
    "        optimal_path = []\n",
    "        # Find vertices that are along the path with the minimum time\n",
    "        nodes = self.compute_best_path(theta_est)\n",
    "        for i in range(len(self.edges_mapping)):\n",
    "            if self.edges_mapping[i][0] in nodes and self.edges_mapping[i][1] in nodes:\n",
    "                optimal_path.append(i)\n",
    "        return optimal_path\n",
    "\n",
    "    def calculate_regret(self, rewards, actions):\n",
    "        \"\"\"\n",
    "        Calculate regret for the given time period as difference between\n",
    "        the travel time along the chosen path and an optimal one.\n",
    "        :param rewards: rewards from real world for each action\n",
    "        :param actions: list of edges along the chosen path\n",
    "        \"\"\"\n",
    "        # Calculate the best\n",
    "        best_path = self.get_action(rewards)\n",
    "        best_reward = sum([rewards[i] for i in best_path])\n",
    "        cur_reward = sum([rewards[i] for i in actions])\n",
    "        self.regrets = np.append(self.regrets, [cur_reward - best_reward])\n"
   ]
  },
  {
   "cell_type": "markdown",
   "metadata": {
    "id": "gGqJHzXNNZ22"
   },
   "source": [
    "#### Simulation run\n",
    "I ran the simulation for the binomial graph with 4, 10 and 20 stages, and for all of them the path with the minimal traveling time was found correctly. Also, the means for each road was estimated with the low mean absolute error."
   ]
  },
  {
   "cell_type": "code",
   "execution_count": null,
   "metadata": {
    "colab": {
     "base_uri": "https://localhost:8080/"
    },
    "id": "2pb9E25Gztsa",
    "outputId": "97b095f4-e921-43d5-e2bc-897adafff7c6"
   },
   "outputs": [
    {
     "name": "stdout",
     "output_type": "stream",
     "text": [
      "The best solution was found correctly:  1 5 9 11\n",
      "Steps done for each action:  [  8. 992.   7.   1.  72. 920.   7.  65.   8. 920.  72. 928.]\n",
      "With reward score 22483.87 through all time periods\n",
      "\n",
      "Result of estimation is  [ 3.348629    1.4580923   0.39656516  1.486024    1.96631246  1.6152381\n",
      "  0.34192158  0.52740834  2.42899176 -0.47929897  1.15452432  0.1929741 ]\n",
      "While the real is  [4.78324102 2.00569383 1.30388833 3.73670564 2.90771004 2.17905683\n",
      " 1.06684694 1.25552451 3.2144947  0.03677187 1.98263718 0.73979028]\n",
      "With Mean Absolute Error: 0.898\n",
      "\n"
     ]
    }
   ],
   "source": [
    "solution = CorrelatedTravelTimeSolution(4)\n",
    "solution.find_solution(1000)\n",
    "solution.print_result()"
   ]
  },
  {
   "cell_type": "code",
   "execution_count": null,
   "metadata": {
    "colab": {
     "base_uri": "https://localhost:8080/"
    },
    "id": "nLrpf0yn0Gsy",
    "outputId": "b9321fd5-65d0-4184-99a5-3a87dd7bef74"
   },
   "outputs": [
    {
     "name": "stdout",
     "output_type": "stream",
     "text": [
      "The best solution was found correctly:  1 5 11 18 26 35 44 51 55 58\n",
      "Steps done for each action:  [290. 710. 288.   2.   3. 707. 287.   1.   4.   1.   3. 704. 282.   5.\n",
      "   4.   1.   3.   1. 702.   2.   1. 281.   8.   1.   4.   0. 703.   0.\n",
      "   2.   0.   1.   1. 288.   4.   1. 701.   2.   2.   0.   0.   2.   1.\n",
      " 291.  56. 646.   3.   1.   0.   3. 346.   1. 648.   1.   1. 349. 647.\n",
      "   2.   2. 996.   4.]\n",
      "With reward score 68317.20 through all time periods\n",
      "\n",
      "Result of estimation is  [ 2.41911383  0.36250297  1.05885406  3.36616168  4.1268599  -0.36486729\n",
      "  0.01515617  3.58733532  0.01526197  0.09868449  3.0123722   0.12577804\n",
      " -0.28144539  3.33037715  2.94799505  0.9652208   2.53763627  0.98689337\n",
      "  0.34645676  1.90713464  2.19679355  1.95570245  1.32282515  3.40905166\n",
      "  1.65604322 -0.5         0.27018414 -0.5        -1.32273498 -0.5\n",
      "  0.20761035  2.08932049  1.04818154  2.55250016  3.44867575  0.24366798\n",
      " -1.40195219  2.59136689 -0.5        -0.5         2.89545445  0.52191903\n",
      "  0.95801088  3.56943366  0.63310318  3.16727221  0.91745216 -0.5\n",
      "  2.96782256  0.24028859  2.57477502  0.06364576  0.54079873  1.60408468\n",
      "  0.30480456  2.86836558  3.39180023  3.36876483  0.92581046  4.06128362]\n",
      "While the real is  [3.21034424 0.87694593 1.66806933 4.31375999 4.6801091  0.1407269\n",
      " 0.65276215 3.2918809  0.2413254  1.52948473 4.80352918 0.61025767\n",
      " 0.33683917 4.96840708 3.64580644 0.8185933  4.1051719  1.37988517\n",
      " 0.82879362 2.90759152 1.97068886 2.74676506 2.42636044 4.85581002\n",
      " 2.64525185 2.63886014 0.74297133 1.76507512 0.32663284 0.78934176\n",
      " 0.98540537 1.58928151 1.43576307 2.75347411 4.27008991 0.8118569\n",
      " 0.12852529 4.46091421 2.00383051 2.50060199 4.11824922 1.53246556\n",
      " 1.39564946 4.60107158 1.22294754 4.6077767  1.95381628 1.95093536\n",
      " 3.45246606 0.72465683 1.30215712 0.63981763 1.0801604  2.88209959\n",
      " 0.78891455 3.58776827 3.39113341 4.33920472 1.45417998 4.38900659]\n",
      "With Mean Absolute Error: 0.962\n",
      "\n"
     ]
    }
   ],
   "source": [
    "solution = CorrelatedTravelTimeSolution(10)\n",
    "solution.find_solution(1000)\n",
    "solution.print_result()"
   ]
  },
  {
   "cell_type": "code",
   "execution_count": 40,
   "metadata": {
    "colab": {
     "base_uri": "https://localhost:8080/"
    },
    "id": "3y_xdmvKNz10",
    "outputId": "53670d98-9808-44fb-c6fe-e0333ca8805d"
   },
   "outputs": [
    {
     "name": "stdout",
     "output_type": "stream",
     "text": [
      "The best solution was found correctly:  0 2 7 14 23 35 49 65 83 102 122 142 159 173 185 195 203 209 214 218\n",
      "Steps done for each action:  [460.  40. 453.   7.   1.  39.  15. 438.   1.   7.   5.  34.  13.   2.\n",
      " 240. 199.   1.  11.   5.  29.  13.   0.  62. 180.   1. 199.   8.   8.\n",
      "   8.  21.  13.   0.  59.   3.   4. 177.  25. 182.  14.   2.  19.   2.\n",
      "  12.   1.  45.  14.   2.   5.   1. 201. 141.  55.   1.  20.   1.   1.\n",
      "   2.  10.  20.  26.   7.   9.   4.   2.   9. 333.  48.   8.  18.   3.\n",
      "   0.   1.   1.   1.   3.  27.  27.   6.   1.  12.   3.   8.   3. 378.\n",
      "   2.  24.   1.   2.   1.   0.   0.   1.   3.   1.   2.  52.   1.   6.\n",
      "   2.  13.   2.   9. 371.   9.   2.  23.   3.   0.   0.   0.   0.   1.\n",
      "   3.   1.   2.   3.  50.   3.   5.   1.  14.   1. 379.  11.   0.  25.\n",
      "   1.   0.   0.   0.   1.   3.   1.   3.   2.   3.  50.   1.   5.   1.\n",
      "  14.   3. 387.  24.   1.   1.   0.   0.   4.   1.   3.   1.   4.   3.\n",
      "  48.   3.   3.   1.  16. 404.   7.   1.   1.   0.   5.   1.   3.   4.\n",
      "   3.  13.  38.   3.   1. 419.   1.   7.   1.   1.   6.   1.   6.   1.\n",
      "  15.   3.  38. 416.   4.   6.   2.   2.   7.   3.   4.   2.  16. 452.\n",
      "   2.   9.   1.   4.  10.   0.   6. 450.  18.   5.   6.   5.  10. 450.\n",
      "   6.   1.  22.  11. 460.   2.   5.  33. 462.  38.]\n",
      "With reward score 124491.14 through all time periods\n",
      "\n",
      "Result of estimation is  [ 3.99670102e-01  2.05946485e+00 -3.61835638e-01  1.82604021e+00\n",
      "  3.49584409e+00  3.20780123e-01  1.43445031e+00 -2.72792156e-01\n",
      "  1.18589589e+00  3.28669392e+00  3.36053449e+00  3.72154546e+00\n",
      "  1.00843541e+00  8.13299068e-01 -2.20134348e-01  2.61450495e-01\n",
      "  8.21463172e-01  3.06166627e+00 -9.19696839e-01  3.31468061e+00\n",
      "  3.76519895e+00 -5.00000000e-01  1.65989940e-01  1.20862060e+00\n",
      "  2.94271833e+00  3.29772078e+00  1.31337089e+00  3.40060969e+00\n",
      " -7.62464672e-01  4.25932372e-01  5.97862897e-01 -5.00000000e-01\n",
      "  3.08713411e+00  4.12685208e+00  3.58420345e+00  3.85287935e+00\n",
      "  3.80317937e+00  3.06200921e+00  5.89008521e-01  3.25058102e+00\n",
      "  1.78344928e+00  3.66310748e+00  4.09553967e-01  2.81060684e+00\n",
      "  2.68788215e+00  3.33101304e+00  4.22892868e+00  3.65177434e+00\n",
      "  1.79992757e+00 -2.85509256e-01  3.72771309e-01 -4.18989781e-01\n",
      "  1.43665455e+00  2.57729071e-03 -3.45709110e-01  1.04590283e+00\n",
      "  2.06598940e+00  2.07868618e+00  2.07162941e+00  2.01880492e+00\n",
      "  1.09050465e+00  3.27050557e+00  1.16122895e+00  3.25233396e+00\n",
      "  1.71113181e+00  1.89409382e+00  2.44967244e+00  3.09136153e+00\n",
      " -2.15765824e-01  3.23648434e+00 -5.00000000e-01  2.87765139e+00\n",
      " -4.78490108e-01  2.05930938e+00  1.98197142e+00  6.08723654e-01\n",
      "  9.60109786e-01  1.97810686e+00 -3.92082838e-01  3.06537749e-01\n",
      " -9.40784699e-02  2.34330004e+00 -2.74128723e-01  1.62592083e+00\n",
      "  3.51184722e+00  2.29723861e+00  2.12241679e+00  2.27879520e-01\n",
      "  4.70355425e-01 -5.00000000e-01 -5.00000000e-01  5.74756208e-01\n",
      "  4.39996198e-01  4.32287786e+00  3.27088869e+00  1.54673325e+00\n",
      "  2.64747226e+00  2.90224900e+00  3.28961395e+00  2.48378288e+00\n",
      "  2.62275282e+00  3.32501688e+00  4.74614796e-01  2.46339871e+00\n",
      "  2.46215448e+00 -8.36766360e-02  8.10232893e-01 -5.00000000e-01\n",
      " -5.00000000e-01 -5.00000000e-01 -5.00000000e-01  1.50749876e+00\n",
      "  4.10911824e-01  2.90267900e+00  8.77294893e-01  3.00671206e+00\n",
      "  2.59205355e+00  1.33490734e+00  1.54255588e+00  1.39221313e+00\n",
      "  8.35125754e-01  3.63446325e+00  1.00493710e+00 -1.09334947e-01\n",
      " -5.00000000e-01  1.27674378e+00  2.86672974e+00 -5.00000000e-01\n",
      " -5.00000000e-01 -5.00000000e-01  1.68396282e+00  2.49830822e+00\n",
      "  3.59014422e+00 -5.28386432e-01  3.32167801e+00  2.89187169e+00\n",
      "  5.36434102e-01  3.17362095e+00  3.08392639e+00  4.18368409e+00\n",
      "  3.13148705e+00  2.20433373e+00  3.89134689e-02  6.85847622e-01\n",
      "  3.84312236e+00  4.97359003e-01 -5.00000000e-01 -5.00000000e-01\n",
      " -1.67132612e-01  1.83534139e+00  1.29105849e+00  1.38157122e-01\n",
      "  2.43327764e+00  2.82074501e+00  2.67714583e+00  1.50557751e+00\n",
      "  6.12687069e-01  6.57442707e-01  6.42792451e-01 -4.41564066e-01\n",
      " -1.21147378e-01  2.55575419e+00  2.66392765e+00 -5.00000000e-01\n",
      "  2.93290748e+00  1.55327099e+00  3.06519665e+00  1.08272470e+00\n",
      "  1.50064413e+00  1.75307560e-02  3.06748135e+00  3.63982442e+00\n",
      "  3.75645180e+00 -2.61681940e-02  3.46059545e-01 -4.46856199e-02\n",
      " -5.98541009e-01 -6.57380356e-01  6.89379386e-01  2.57376956e+00\n",
      " -1.20781349e-02  2.68250708e+00  3.29211044e+00  7.08314140e-02\n",
      " -4.78295112e-02  1.39970371e+00  2.63504233e+00  3.34016278e+00\n",
      "  2.19059857e+00  1.73730101e+00  2.83566367e+00  1.87760029e+00\n",
      "  3.60249291e+00  4.90613805e-01  1.52182851e+00 -4.81841033e-01\n",
      "  3.17852198e+00  1.80464421e+00  1.79856818e+00  2.29627118e+00\n",
      "  1.13227794e+00 -5.00000000e-01  3.25150991e+00  2.05805761e+00\n",
      "  2.38540007e+00  1.40826382e+00  1.28164979e+00  3.18994967e+00\n",
      "  3.94466716e+00  4.89200788e-01 -1.78981329e-02  3.76387231e+00\n",
      "  1.57238587e+00  1.20971556e+00  4.55630852e-01  2.68702385e+00\n",
      "  4.24294897e+00  3.51887011e+00  2.84377674e+00  1.79132626e+00]\n",
      "While the real is  [0.86817673 2.73449987 0.0904581  2.49768393 4.7037244  0.93654199\n",
      " 2.18484487 0.24571321 3.00790953 4.05042072 4.49315744 4.65202031\n",
      " 1.53856606 2.03293793 0.15277475 0.91638567 2.27448659 3.77339825\n",
      " 0.41086608 4.06630916 4.77935863 1.36349896 0.46703887 1.56810349\n",
      " 4.4426582  3.99439667 2.0267368  4.99985054 0.23010639 0.81905328\n",
      " 1.09884832 0.20384152 3.60542594 4.50961161 4.48329808 4.58478941\n",
      " 4.56295404 3.75304972 1.30953657 4.67953021 2.12263507 4.83800836\n",
      " 1.03734282 4.08856301 3.28198354 4.16698821 4.46849817 4.55373112\n",
      " 0.95901894 0.10316546 0.96386817 0.12191119 3.5342413  0.31089512\n",
      " 0.71995871 2.28259027 2.19978345 3.19167989 2.54085911 2.80269309\n",
      " 1.34188122 4.84750072 1.23390466 4.36875517 2.62811069 2.46245411\n",
      " 3.29699332 3.97092973 0.06179064 4.4653784  0.44655664 4.94977557\n",
      " 0.51488172 1.73041016 2.42574132 0.99111787 1.45066796 2.9108218\n",
      " 0.20302259 0.82275124 0.57303814 3.28575086 0.01980155 2.14321493\n",
      " 4.61416596 3.10736804 3.34778522 0.54227958 1.45123061 4.46552172\n",
      " 1.18377774 0.84986755 1.21880829 3.49285007 4.35642725 2.04728038\n",
      " 3.39908138 3.65940178 4.32168424 3.32263826 2.85140494 4.59466858\n",
      " 1.02890173 3.98351043 4.24050825 0.24090434 1.68213051 2.97139098\n",
      " 4.41383146 4.09138093 4.05351036 3.55493293 0.81569197 3.90545837\n",
      " 2.43119354 3.94729581 3.47992382 3.46746501 2.51570016 0.5769531\n",
      " 1.1900706  4.24375906 1.55003342 0.03290174 1.62174193 1.98224362\n",
      " 3.5565168  4.90415877 0.46580319 1.82175351 4.359393   3.5218284\n",
      " 4.52726481 0.00620876 4.5331117  4.17235749 1.54006869 3.30697085\n",
      " 4.34986453 4.77068301 3.99100703 3.56223559 0.56986441 1.2777803\n",
      " 4.99358779 1.19467202 4.89527112 2.83039233 0.4609059  2.65375172\n",
      " 1.7835394  0.08433264 3.83004182 4.76307186 3.65446645 1.72721204\n",
      " 1.2572076  0.24144783 1.17576272 0.09234359 0.65240379 3.66977418\n",
      " 4.50745219 1.75316875 3.95648926 2.07166342 3.79436863 1.64676245\n",
      " 3.80186043 0.73605388 4.05337744 4.52493724 4.80839439 0.47647603\n",
      " 0.7461563  0.50458401 0.01687494 1.29020431 1.45513554 3.02150192\n",
      " 0.30249349 4.91118522 4.55521152 1.00547173 0.66549367 1.90907617\n",
      " 3.71694768 4.1713228  3.66560634 2.46806143 3.62931784 3.18376737\n",
      " 4.68381509 0.36925028 2.75554087 0.02161245 3.64151014 2.30957773\n",
      " 4.2501595  3.28565015 1.66158365 1.37046673 4.59872784 2.56020755\n",
      " 3.50479829 2.40158201 1.49320105 4.6511739  4.50443471 0.99799653\n",
      " 0.02703781 4.42502116 2.59214233 1.65769952 0.9911267  3.31487223\n",
      " 4.54090088 4.59382141 3.40228516 2.49184787]\n",
      "With Mean Absolute Error: 1.008\n",
      "\n"
     ]
    }
   ],
   "source": [
    "solution = CorrelatedTravelTimeSolution(20)\n",
    "solution.find_solution(500)\n",
    "solution.print_result()"
   ]
  },
  {
   "cell_type": "markdown",
   "metadata": {
    "id": "lh9GdTf80Qvn"
   },
   "source": [
    "#### Graph of regrets per period\n",
    "I ran the algorithm for 500 time periods 10000 times and got the following graph. From it one can notice that Thompson's algorithm works well."
   ]
  },
  {
   "cell_type": "code",
   "execution_count": null,
   "metadata": {
    "colab": {
     "base_uri": "https://localhost:8080/",
     "height": 472
    },
    "id": "yLMmLJycivtd",
    "outputId": "22b071a4-4e53-453d-f86f-d267650f2a34"
   },
   "outputs": [
    {
     "data": {
      "image/png": "[encoded data removed]",
      "text/plain": [
       "<Figure size 640x480 with 1 Axes>"
      ]
     },
     "metadata": {},
     "output_type": "display_data"
    }
   ],
   "source": [
    "n_trials = 10000\n",
    "lower_bound, upper_bound = 0, 0\n",
    "lower_bound, upper_bound = plot_regret(n_trials, 500, CorrelatedTravelTimeSolution, [6], lower_bound, upper_bound)\n",
    "\n",
    "lower_bound -= (upper_bound - lower_bound) / 50\n",
    "upper_bound += (upper_bound - lower_bound) / 50\n",
    "plt.ylim(top=upper_bound)\n",
    "plt.ylim(bottom=lower_bound)\n",
    "\n",
    "plt.ylabel('Regret')\n",
    "plt.xlabel('Time period')\n",
    "plt.legend([\"Thompson Sampling\"])\n",
    "plt.title(\"Regret after applying algorithms for Correlated Travel Time problem\")\n",
    "plt.show()"
   ]
  }
 ],
 "metadata": {
  "colab": {
   "provenance": []
  },
  "kernelspec": {
   "display_name": "Python 3 (ipykernel)",
   "language": "python",
   "name": "python3"
  },
  "language_info": {
   "codemirror_mode": {
    "name": "ipython",
    "version": 3
   },
   "file_extension": ".py",
   "mimetype": "text/x-python",
   "name": "python",
   "nbconvert_exporter": "python",
   "pygments_lexer": "ipython3",
   "version": "3.9.13"
  }
 },
 "nbformat": 4,
 "nbformat_minor": 1
}
